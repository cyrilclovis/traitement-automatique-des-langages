{
 "cells": [
  {
   "cell_type": "markdown",
   "metadata": {},
   "source": [
    "## 1️⃣ Introduction\n",
    "\n",
    "💡 Bienvenue dans ce notebook de gestion Git !\n",
    "\n",
    "Sélectionnez la commande que vous souhaitez exécuter en lançant la cellule correspondante. Vous pouvez les modifier à votre convenance !"
   ]
  },
  {
   "cell_type": "code",
   "execution_count": null,
   "metadata": {
    "vscode": {
     "languageId": "shellscript"
    }
   },
   "outputs": [],
   "source": [
    "###  📝 Vérifier le statut Git\n",
    "!git status"
   ]
  },
  {
   "cell_type": "code",
   "execution_count": null,
   "metadata": {
    "vscode": {
     "languageId": "shellscript"
    }
   },
   "outputs": [],
   "source": [
    "###  🔄 Mettre à jour le dépôt (Pull)\n",
    "branch = \"main\"  # Modifier si besoin\n",
    "!git pull {branch}"
   ]
  },
  {
   "cell_type": "code",
   "execution_count": null,
   "metadata": {
    "vscode": {
     "languageId": "shellscript"
    }
   },
   "outputs": [],
   "source": [
    "### 📤 Ajouter et pousser les modifications\n",
    "commit_message = \"A définir\"\n",
    "!git add .\n",
    "!git commit -m \"{commit_message}\"\n",
    "!git push"
   ]
  },
  {
   "cell_type": "code",
   "execution_count": null,
   "metadata": {
    "vscode": {
     "languageId": "shellscript"
    }
   },
   "outputs": [],
   "source": [
    "### 🌿 Changer de branche, ajouter -b pour en créer une nouvelle\n",
    "branch = \"main\"  # Modifier si besoin\n",
    "!git checkout {branch}"
   ]
  },
  {
   "cell_type": "code",
   "execution_count": null,
   "metadata": {
    "vscode": {
     "languageId": "shellscript"
    }
   },
   "outputs": [],
   "source": [
    "### 🔍 Savoir sur quelle branche vous vous situez\n",
    "!git branch -a"
   ]
  }
 ],
 "metadata": {
  "language_info": {
   "name": "python"
  }
 },
 "nbformat": 4,
 "nbformat_minor": 2
}
